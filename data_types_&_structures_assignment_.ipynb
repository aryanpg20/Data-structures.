{
  "nbformat": 4,
  "nbformat_minor": 0,
  "metadata": {
    "colab": {
      "provenance": []
    },
    "kernelspec": {
      "name": "python3",
      "display_name": "Python 3"
    },
    "language_info": {
      "name": "python"
    }
  },
  "cells": [
    {
      "cell_type": "markdown",
      "source": [
        "Q1)What are data structures, and why are they important?\n",
        "\n",
        " 1.Data structures are specialized formats for organizing,storing,and accesing collections of data.They provide efficient ways to manage information based on its characteristics and intended use.\n",
        "\n",
        "2.Think of them as containers that hold your data and determine how you can interact with it.Differnt containers are better suited for differnt types of items.\n",
        "\n",
        "why they are important?\n",
        "\n",
        "1.choosing the right data structure significantly impacts the efficiency and perfoemance of your program.\n",
        "\n",
        "2.well-choosen data structures can:\n",
        "\n",
        "simplify data manipulation(adding,removing,modifying elements).\n",
        "\n",
        "optimize searching and sorting operations.\n",
        "\n",
        "conserve memory usage."
      ],
      "metadata": {
        "id": "l-GtDg47Oqib"
      }
    },
    {
      "cell_type": "markdown",
      "source": [
        "Q2) Explain the difference between mutable and immutable data types with examples?\n",
        "\n",
        "python data type is categorized into two types:\n",
        "\n",
        "1.mutable data type - A mutable data type is one whose values can be changed.ex- list,dictionaries and sets.\n",
        "\n",
        "2.immutable data type - A immutable data type is one in which the values cant be changed or altered.ex- string aand tuples.\n",
        "\n",
        "mutable - data types whose values can be changed after creation,retains the same memory location even after the content is modified.\n",
        "\n",
        "immutable - data types whose values cant be changed or altered,any modifications results in a new object and new memory location."
      ],
      "metadata": {
        "id": "c-ak2URvRMly"
      }
    },
    {
      "cell_type": "markdown",
      "source": [
        "Q3) What are the main differences between lists and tuples in Python?\n",
        "\n",
        "lists:\n",
        "\n",
        "description- Ordered,mutable collections of elements.Think of shopping lists or tasks lists.lists can hold items of various data types(numbers,strings,even other lists).\n",
        "\n",
        "operations- you can add,remove or modify elements within a list using indexing and slicing.lists are versatile for storing and managing collections that might change.\n",
        "\n",
        "tuples:\n",
        "\n",
        "description- Ordered,immutable collections of elements,similar to lists.However,once created,the items in a tuple cannot be changed.They provide a secure way to store data that shouldn't be modified.\n",
        "\n",
        "operations- You can access elements using indexing and slicing.but you cannot modify the content.Tuples are useful for representing fixed datasets and configurations.\n",
        "\n",
        "\n"
      ],
      "metadata": {
        "id": "K-Vbl9PwTXRA"
      }
    },
    {
      "cell_type": "markdown",
      "source": [
        "Q4) Describe how dictionaries store data?\n",
        "\n",
        "Dictionaries are used to store data values in key:value pairs.\n",
        "\n",
        "A dictionary ia a collection which is ordered*,changeable and do not allow duplicates.\n",
        "\n",
        "dictionary items are presented in key:value pairs,and can be reffered to by using the key name.\n",
        "\n",
        "\n",
        "\n"
      ],
      "metadata": {
        "id": "GDalBZoqV52H"
      }
    },
    {
      "cell_type": "markdown",
      "source": [
        "Q5) Why might you use a set instead of a list in Python?\n",
        "\n",
        "in python,you might use a set instead of a list for several reasons:\n",
        "\n",
        "1.Uniqueness: Sets automatically remove duplicate values,ensuring all elements are unique.\n",
        "\n",
        "2.Faster Lookup: Checking if an item exists in a set is faster compared to a list.\n",
        "\n",
        "3.Mathematical Operations: Sets support operations like union(|),interactions(&),difference(-), and symmetric difference(^),making them useful for set-based logic.\n",
        "\n",
        "4.Unordered Collection: If order doesn't matter, sets can be more efficient since they dont maintain element order like lists do.\n",
        "\n",
        "5.Performance: For large collections where frequent lookups and uniqueness checks are needed,sets perform significantly better than lists.\n",
        "\n",
        "however, sets do not support indexing or slicing , so if you need ordered elements or indexed access, a list is more appropriate.\n",
        "\n",
        "\n",
        "\n"
      ],
      "metadata": {
        "id": "bvYNhjvFXjRg"
      }
    },
    {
      "cell_type": "markdown",
      "source": [
        "Q6) What is a string in Python, and how is it different from a list?\n",
        "\n",
        "strings:\n",
        "\n",
        "description- characacters arranged in an unchangeable order.consider writing a sentence , a paragraph , or a piece of material.\n",
        "\n",
        "operations- each character in the string can be accessed by its index, or position. substrings can be extracted using slicing. strings can be joined together and altered using a variety of techniques(find,replace,etc).\n",
        "\n",
        "string - immutable(cannot be changed),only stores characters,cannot modify ekements directly,uses + to combine strings and can be converted to a list using list(s)\n",
        "\n",
        "lists - mutable(can be changed),can store any data type,elements can be added,removed,or modified, uses + to merge lists and can be converted to a string using \"\".join(list)\n",
        "\n"
      ],
      "metadata": {
        "id": "nIYGwMx-a_-y"
      }
    },
    {
      "cell_type": "markdown",
      "source": [
        "Q7) How do tuples ensure data integrity in Python?\n",
        "\n",
        "in python, tuples ensure data integrity through immutability and hashability.\n",
        "\n",
        "1.immutability:\n",
        "\n",
        "tuples are immutable,meaning their elements cannot be modified after creation.\n",
        "\n",
        "this prevents accidental changes,making them useful for storing constant data.\n",
        "\n",
        "2.hashability(ensuring data integrity in sets & dictionaries)\n",
        "\n",
        "since tuples cannot change, they can be used as keys in dictionaries or elements in sets.\n",
        "\n",
        "this ensures data remains consistent when used as an indentifier.\n",
        "\n"
      ],
      "metadata": {
        "id": "Y2IXcqmEi11_"
      }
    },
    {
      "cell_type": "markdown",
      "source": [
        "Q8) What is a hash table, and how does it relate to dictionaries in Python?\n",
        "\n",
        "A hash table is a data structure that maps keys to values using a hash function.The hash function computes an index(or \"hash\") for each key , which determines where the corresponding value is stored.This allows for fast lookups,insertions, and deletions--typically with an average time complexity of o(1)\n",
        "\n",
        "how hash tables work:\n",
        "\n",
        "1.A key is passed through a hash function to generate an index.\n",
        "\n",
        "2.The value associated with the key is stored at that index.\n",
        "\n",
        "3.When retrieving the value,the hash function is used again to quickly locate the stored value.\n",
        "\n",
        "in python,the built-in dictionary(dict) is implemented using a hash table.\n",
        "this menas:\n",
        "\n",
        "Fast lookups: Retrieving a value from a dictionary is,on average,o(1).\n",
        "\n",
        "Unique keys: Each key must be unique,as the hash function maps it to a specific location.\n",
        "\n",
        "Key hashing: Only hashable(immutable)types like strings,numbers,and tuples(with immutable elements)can be used as dictionary keys.\n",
        "\n",
        "\n"
      ],
      "metadata": {
        "id": "i8ioq4khkQBg"
      }
    },
    {
      "cell_type": "markdown",
      "source": [
        "Q9) Can lists contain different data types in Python?\n",
        "\n",
        "Yes, a list in python can contain different data types.Python lists are heterogeneous,meaning they can store elements of various data types,including integers,floats,strings,other lists,dictionaries,tuples, and even functions.\n",
        "\n"
      ],
      "metadata": {
        "id": "BkvFf5ma-u6z"
      }
    },
    {
      "cell_type": "markdown",
      "source": [
        "Q10) Explain why strings are immutable in Python?\n",
        "\n",
        "strings are immutable in python,meaning that once a string is created,it cannot be changed.theree are several reasons for this design choice:\n",
        "\n",
        "1.Efficiency & Performance:-immutable onjects are easier to cache,and reuse ,improving performance.\n",
        "\n",
        "2.Thread Safety:-since strings cannot be modified,multiple threads can safely share the same thing without the risk of data corruption.\n",
        "\n",
        "3.hashability & dictionary keys:-strings are used as keys in dictionaries,which require objects to be hashable.if strings were mutable,their hash values could change,making them unreliable as dictionary keys.\n",
        "\n",
        "4.Security & Predictability:-immutable strings prevent unitended side effects caused by modifying a string in one part of the code and affecting other parts unknowingly.\n"
      ],
      "metadata": {
        "id": "eiUG7al9_iOl"
      }
    },
    {
      "cell_type": "markdown",
      "source": [
        "Q11) What advantages do dictionaries offer over lists for certain tasks?\n",
        "\n",
        "Dictionaries offer several advantages over lists for certain tasks,including:\n",
        "\n",
        "1.Faster Lookups- Dictionaries provide 0(1) time complexity for key-based lookups,while lists require o(n) time complexitynin the wrost case.This makes dictionaries ideal for tasks that require frequent searching.\n",
        "\n",
        "2.Key-Value Pair Storage- Unlike lists,which store elements in a sequence,dictionaries store data in key-value pairs,making it easier to retrieve values based on meaningful keys instead of relying on index positions.\n",
        "\n",
        "3.Efficient Updates and Modifications- Adding,Updating or deleting elements in a dictionary is generally more efficient compared to lists,especially for large datasets.\n",
        "\n",
        "4.No Need for ordered indexing- While lists require numerical indexing,dictionaries allow for flexible and readable access patterns using custom keys.\n",
        "\n",
        "5.Avoiding Duplicates- dictionary keys are unique,preventing accidental duplicate entries,unlike lists that can contain duplicate values.\n",
        "\n",
        "6.Better Representation of structured data- Dictionaries are well-suited for representing structured data,such as JSON-like objects,configuration settings, and mappings,where key-value relationships are important.\n",
        "\n",
        "7.Memory Efficiency- In some cases,dictionaries can be more memory-efficient by avoiding the need to store unnecessary placeholder values,through this depends on the specific data structure being used.\n",
        "\n"
      ],
      "metadata": {
        "id": "Z57g_regBiH0"
      }
    },
    {
      "cell_type": "markdown",
      "source": [
        "Q12) Describe a scenario where using a tuple would be preferable over a list?\n",
        "\n",
        "A tuple is preferable over a list in scenarios where immutability is desired,meaning the data should remain constant and not be accidentally modified.\n",
        "\n",
        "1.Prevents accidental modifications: Since connection settings should not change during execution,using a tuple prevents accidental updates.\n",
        "\n",
        "2.Safer code: Developers cannot mistakenly alter the values,reducing bugs.\n",
        "\n",
        "3.Faster performance: Tuples are slightly more memory-efficient and faster than lists due to their fixed size.\n",
        "\n",
        "\n"
      ],
      "metadata": {
        "id": "SlR5qWnSBw7Z"
      }
    },
    {
      "cell_type": "markdown",
      "source": [
        "Q13) How do sets handle duplicate values in Python?\n",
        "\n",
        "in python,Sets do not allow duplicate values.When you try to add duplicate elements to a set,Python automatically removes the duplicates and keeps only unique values.if we try to add a duplicate value to an existing set using .add(),python will simply ignore it.\n"
      ],
      "metadata": {
        "id": "sLrdyTVhOsny"
      }
    },
    {
      "cell_type": "markdown",
      "source": [
        "Q14) How does the “in” keyword work differently for lists and dictionaries?\n",
        "\n",
        "The in keywords is used to check for membership in both lists and dictionaries,but it behaves differently in each case:\n",
        "\n",
        "1.IN LISTS: When used with a list,in checks whether a specific value exists as an element in the list.\n",
        "it checks the presence of a value.\n",
        "the operation takes o(n) time complexity because it searches through the list sqeuqntially.\n",
        "\n",
        "2.IN DICTIONARIES: When used in dictionary,in checks whether a given key exists in the dictionary(not values).\n",
        "it checks only for keys,not values.\n",
        "if you want to check for value, you need to use .values():\n",
        "the operation is0(1) on average because dictionaries use a hash table for fast lookups.\n"
      ],
      "metadata": {
        "id": "8edCi9DBQx9L"
      }
    },
    {
      "cell_type": "markdown",
      "source": [
        "Q15) Can you modify the elements of a tuple? Explain why or why not?\n",
        "\n",
        "NO,we cannot modify the elements of a tuple because tuples in python are immutable.\n",
        "\n",
        "EXPLANATION:\n",
        "\n",
        "immutability menas that once a tuple is created,its elements cannot be changed,added,or removed.\n",
        "\n",
        "This property makes tuples useful for storing data that should remain constant throughout the execution of a program.\n",
        "\n",
        "If you try to modify an element of a tuple,python will raise a typeError.\n",
        "\n"
      ],
      "metadata": {
        "id": "RTmNA81cTmEf"
      }
    },
    {
      "cell_type": "markdown",
      "source": [
        "Q16) What is a nested dictionary, and give an example of its use case?\n",
        "\n",
        "A Nested dictionary in python is a dictionary inside another dictionary.it allows you to store complex data structures by grouping related data together.\n",
        "\n",
        "USE CASE EXAMPLE:\n",
        "\n",
        "A common use case is storing structured data,such as student records,Where each student has multiple attributes like name,age,and grades.\n",
        "\n",
        "WHY USE NESTED DICTIONARIES:\n",
        "\n",
        "Helps organize data in a hierarchical structure.\n",
        "\n",
        "Provides an efficient way to manage and access related data.\n",
        "\n",
        "Useful in real-world applications like databases,JSON processing,and data analysis.\n",
        "\n"
      ],
      "metadata": {
        "id": "HAdmwqlkdHwh"
      }
    },
    {
      "cell_type": "markdown",
      "source": [
        "Q17) Describe the time complexity of accessing elements in a dictionary?\n",
        "\n",
        "The time complexity of accessing elements in a dictionary (hash table) depends on the operations performed:\n",
        "\n",
        "AVERAGE CASE:O(1)- Dictionary lookup is typically constant time because python dictionaries use a hash table.The key is hashed, and the corresponding value is retrieved in one step.\n",
        "\n",
        "WORST CASE:O(n)- In rare cases,if many keys hash to the same index (hash collisions),lookups may degrade to linear time due to chaining(linked lists) or probing."
      ],
      "metadata": {
        "id": "a-S3bITbep1f"
      }
    },
    {
      "cell_type": "markdown",
      "source": [
        "Q18) In what situations are lists preferred over dictionaries?\n",
        "\n",
        "Lists are preffered over dictionaries in situations where:\n",
        "\n",
        "1.ORDER MATTERS: lists maintain the order of elements, while dictionaries do not gurantee order. if order is crucial, a list is often a better choice.\n",
        "\n",
        "2.SEQUENTIAL ACCESS: if you primarily need to access elements by their position(index),a list is more efficient and straight forward.\n",
        "\n",
        "3.DUPLICATE VALUES ARE ALLOWED: lists are allows duplicate values,whereas dictionary keys must be unique.\n",
        "\n",
        "4.MEMORY EFFICIENCY: lists are generally more memory-efficient than dictionaries because they only store values,whereas dictionaries store key-value pairs,requiring additional memory for keys and hash tables.\n",
        "\n",
        "5.ITERATION SPEED: iterating over a list is typically faster than iterating over a dictionary, as there's no need to look up keys.\n",
        "\n",
        "6.SIMPLE DATA STRUCTURES: if you only need a collection of values without associated keys, a list is simpler and more readable.\n",
        "\n",
        "7.APPENDING AND EXTENDING: lists allow easy appending and extending ,making them a better choice for dynamic collections where elements are frequently added.\n"
      ],
      "metadata": {
        "id": "AewLgU3BgCR0"
      }
    },
    {
      "cell_type": "markdown",
      "source": [
        "Q19) Why are dictionaries considered unordered, and how does that affect data retrieval?\n",
        "\n",
        "Dictionaries in python are considered unordered because,before python 3.7,they did not maintain the order in which key-value pairs were inserted.instead,they used a hash table to store data,meaning the order of items could change as elements were added or removed.\n",
        "\n",
        "HOW IT AFFECTS DATA RETRIEVAL:\n",
        "\n",
        "1.FAST LOOKUPS: Dictionaries provide O(1)average time complexity for retrieving valued based on keys,thanks to hashing.\n",
        "\n",
        "2.NO POSITIONSAL INDEXING: unlike lists, dictionaries cannot be accessed using an index(eg.,dict[0] is invalid);you must use a key.\n",
        "\n",
        "3.ORDER PRESERVATION (PYTHON 3.7+): The order of keys will remain as inserted, so iteration will be predictable.\n",
        "\n",
        "4.PERFORMANCE CONSIDERATIONS: since dictionaries rely on hashing,they can be more memory-intensive than lists."
      ],
      "metadata": {
        "id": "6AmleCBKis9X"
      }
    },
    {
      "cell_type": "markdown",
      "source": [
        "Q20) Explain the difference between a list and a dictionary in terms of data retrieval?\n",
        "\n",
        "The key difference between a list and a dictionary in terms of data retrieval is how elements are accessed:\n",
        "\n",
        "1.LIST(ordered,indexed retrieval)\n",
        "\n",
        "elements in a list are retrieved using their index(position).\n",
        "\n",
        "indexing starts from 0,meaning the first item is at index 0,the second at 1, and so on.\n",
        "\n",
        "retrieval time is o(1) (constant time) id the index is known.\n",
        "\n",
        "2.DICTIONARY(key-value retrieval)\n",
        "\n",
        "elements are stored as key-value pairs and retrieved using unique keys instead of numeric indices.\n",
        "\n",
        "dictionary retrieval is typically o(1) on average (constant time) because it uses a hash table internally.\n",
        "\n",
        "NOTES:\n",
        "\n",
        "lists use integer indexes for retrieval, while dictionaries use keys.\n",
        "\n",
        "lists are best when order matters and elements are accessed sequentially.\n",
        "\n",
        "dictionaries are better for fast lookups when working with labeled data."
      ],
      "metadata": {
        "id": "b2-0QBa6k9lZ"
      }
    },
    {
      "cell_type": "markdown",
      "source": [
        "**PRACTICAL QUESTIONS**"
      ],
      "metadata": {
        "id": "VAd3c1uB5IPH"
      }
    },
    {
      "cell_type": "markdown",
      "source": [
        "Q1) Write a code to create a string with your name and print it?"
      ],
      "metadata": {
        "id": "jHGBdh6u8gIi"
      }
    },
    {
      "cell_type": "code",
      "source": [
        "name = \"Aryan\"\n",
        "print(name)\n"
      ],
      "metadata": {
        "colab": {
          "base_uri": "https://localhost:8080/"
        },
        "id": "urrwWwNUIgj8",
        "outputId": "4f5c239a-333a-480e-8ac1-ecdddaadbebb"
      },
      "execution_count": 18,
      "outputs": [
        {
          "output_type": "stream",
          "name": "stdout",
          "text": [
            "Aryan\n"
          ]
        }
      ]
    },
    {
      "cell_type": "markdown",
      "source": [
        "Q2) Write a code to find the length of the string \"Hello World\"?\n"
      ],
      "metadata": {
        "id": "KFonk2nr8zhb"
      }
    },
    {
      "cell_type": "code",
      "source": [
        " a = \"Hello World!\"\n",
        " print(len(a))\n",
        ""
      ],
      "metadata": {
        "colab": {
          "base_uri": "https://localhost:8080/"
        },
        "id": "7W2szZg488Vx",
        "outputId": "09c07d1a-5a2b-460f-da57-ce9e4801448f"
      },
      "execution_count": 5,
      "outputs": [
        {
          "output_type": "stream",
          "name": "stdout",
          "text": [
            "12\n"
          ]
        }
      ]
    },
    {
      "cell_type": "markdown",
      "source": [
        "Q3) Write a code to slice the first 3 characters from the string \"Python Programming\"?"
      ],
      "metadata": {
        "id": "IDyZZHst99fH"
      }
    },
    {
      "cell_type": "code",
      "source": [
        " s = \"Python, Programming!\"\n",
        " s2 = s[0:5]\n",
        " print(s2)\n",
        ""
      ],
      "metadata": {
        "colab": {
          "base_uri": "https://localhost:8080/"
        },
        "id": "I5gNrnJv-NPK",
        "outputId": "6dba0b9c-a7f0-4406-ab63-6357c36f436e"
      },
      "execution_count": 6,
      "outputs": [
        {
          "output_type": "stream",
          "name": "stdout",
          "text": [
            "Pytho\n"
          ]
        }
      ]
    },
    {
      "cell_type": "markdown",
      "source": [
        "Q4) Write a code to convert the string \"hello\" to uppercase?"
      ],
      "metadata": {
        "id": "QvWByyJe-6oB"
      }
    },
    {
      "cell_type": "code",
      "source": [
        " s = \"hello\"\n",
        " res = s.upper()\n",
        " print(res)\n",
        ""
      ],
      "metadata": {
        "colab": {
          "base_uri": "https://localhost:8080/"
        },
        "id": "EVhG3Ow0_BQi",
        "outputId": "2c478315-6392-47db-bde4-f440558b5c4f"
      },
      "execution_count": 7,
      "outputs": [
        {
          "output_type": "stream",
          "name": "stdout",
          "text": [
            "HELLO\n"
          ]
        }
      ]
    },
    {
      "cell_type": "markdown",
      "source": [
        "Q5) Write a code to replace the word \"apple\" with \"orange\" in the string \"I like apple\"?"
      ],
      "metadata": {
        "id": "2siYvrFX_zf-"
      }
    },
    {
      "cell_type": "code",
      "source": [
        "text = \"i like apple\"\n",
        "new_text = text.replace(\"apple\",\"orange\")\n",
        "print(new_text)\n"
      ],
      "metadata": {
        "colab": {
          "base_uri": "https://localhost:8080/"
        },
        "id": "X6kc969W_7h_",
        "outputId": "f33a3929-7ede-40fd-aa83-9f684910444c"
      },
      "execution_count": 10,
      "outputs": [
        {
          "output_type": "stream",
          "name": "stdout",
          "text": [
            "i like orange\n"
          ]
        }
      ]
    },
    {
      "cell_type": "markdown",
      "source": [
        "Q6) Write a code to create a list with numbers 1 to 5 and print it?"
      ],
      "metadata": {
        "id": "lxmPF6CpBWJ5"
      }
    },
    {
      "cell_type": "code",
      "source": [
        " r1 = 1\n",
        " r2 = 5\n",
        " li = list(range(r1,r2))\n",
        " print(li)\n",
        ""
      ],
      "metadata": {
        "colab": {
          "base_uri": "https://localhost:8080/"
        },
        "id": "9DMJvqcDBfih",
        "outputId": "3c2ec828-5f95-4467-ca86-79cf5f0ba8c9"
      },
      "execution_count": 11,
      "outputs": [
        {
          "output_type": "stream",
          "name": "stdout",
          "text": [
            "[1, 2, 3, 4]\n"
          ]
        }
      ]
    },
    {
      "cell_type": "markdown",
      "source": [
        "Q7) Write a code to append the number 10 to the list [1, 2, 3, 4]?"
      ],
      "metadata": {
        "id": "7IaIXwe9CBlO"
      }
    },
    {
      "cell_type": "code",
      "source": [
        " li = [1,2,3,4]\n",
        " li.append(10)\n",
        " print(li)\n",
        ""
      ],
      "metadata": {
        "colab": {
          "base_uri": "https://localhost:8080/"
        },
        "id": "wFduFEZaCQXV",
        "outputId": "f67d2191-afed-434a-bfc9-39ac02ead2c6"
      },
      "execution_count": 12,
      "outputs": [
        {
          "output_type": "stream",
          "name": "stdout",
          "text": [
            "[1, 2, 3, 4, 10]\n"
          ]
        }
      ]
    },
    {
      "cell_type": "markdown",
      "source": [
        "Q8) Write a code to remove the number 3 from the list [1, 2, 3, 4, 5]?"
      ],
      "metadata": {
        "id": "EqUPbtJUCj0G"
      }
    },
    {
      "cell_type": "code",
      "source": [
        " a = [1,2,3,4,5]\n",
        " remove = [3]\n",
        " res = []\n",
        " for val in a:\n",
        "    if val not in remove:res.append(val)\n",
        " print(res)\n",
        ""
      ],
      "metadata": {
        "colab": {
          "base_uri": "https://localhost:8080/"
        },
        "id": "3Lz4hWIpCrzh",
        "outputId": "75243b46-496b-4b35-c912-16eb77ef5b6e"
      },
      "execution_count": 13,
      "outputs": [
        {
          "output_type": "stream",
          "name": "stdout",
          "text": [
            "[1, 2, 4, 5]\n"
          ]
        }
      ]
    },
    {
      "cell_type": "markdown",
      "source": [
        "Q9) Write a code to access the second element in the list ['a', 'b', 'c', 'd']?\n"
      ],
      "metadata": {
        "id": "ADvP_s6LDjdf"
      }
    },
    {
      "cell_type": "code",
      "source": [
        " my_list = ['a','b','c','d']\n",
        " second_element = my_list[1]\n",
        " print(second_element)\n",
        ""
      ],
      "metadata": {
        "colab": {
          "base_uri": "https://localhost:8080/"
        },
        "id": "AAWUcsniEget",
        "outputId": "a878a3d4-c028-4cec-9f99-271b2a150490"
      },
      "execution_count": 15,
      "outputs": [
        {
          "output_type": "stream",
          "name": "stdout",
          "text": [
            "b\n"
          ]
        }
      ]
    },
    {
      "cell_type": "markdown",
      "source": [
        "Q10) Write a code to reverse the list [10, 20, 30, 40, 50]?"
      ],
      "metadata": {
        "id": "7shWXmdkGY5P"
      }
    },
    {
      "cell_type": "code",
      "source": [
        " a = [10,20,30,40,50]\n",
        " a.reverse()\n",
        " print(a)\n",
        ""
      ],
      "metadata": {
        "colab": {
          "base_uri": "https://localhost:8080/"
        },
        "id": "wE3kdGbSGotn",
        "outputId": "73fb13ba-59a7-440e-d288-eb2f2d094cb2"
      },
      "execution_count": 16,
      "outputs": [
        {
          "output_type": "stream",
          "name": "stdout",
          "text": [
            "[50, 40, 30, 20, 10]\n"
          ]
        }
      ]
    }
  ]
}